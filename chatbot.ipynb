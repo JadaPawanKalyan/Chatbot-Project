{
 "cells": [
  {
   "cell_type": "code",
   "execution_count": null,
   "metadata": {},
   "outputs": [],
   "source": [
    "# importing necessary libraries\n",
    "\n",
    "import tensorflow as tf\n",
    "import json\n",
    "import numpy as np\n",
    "from tensorflow.keras.layers import Input\n",
    "from tensorflow.keras.models import Model\n",
    "import tensorflow"
   ]
  },
  {
   "cell_type": "code",
   "execution_count": null,
   "metadata": {
    "id": "jUqzSnYFBtsS"
   },
   "outputs": [],
   "source": [
    "# configuring tpu scope\n",
    "\n",
    "tpu = tf.distribute.cluster_resolver.TPUClusterResolver.connect()\n",
    "tpu_strategy = tf.distribute.TPUStrategy(tpu)"
   ]
  },
  {
   "cell_type": "code",
   "execution_count": null,
   "metadata": {
    "colab": {
     "base_uri": "https://localhost:8080/"
    },
    "id": "gte-Dvwzzf12",
    "outputId": "f1f53752-7ed8-4341-b355-f291721c7095"
   },
 
  {
   "cell_type": "code",
   "execution_count": null,
   "metadata": {
    "id": "lraKpbFbzr43"
   },
   "outputs": [],
   "source": [
    "# loading the data seperated in three different files\n",
    "\n",
    "with open('chats-1.json') as f:\n",
    "  s=json.load(f)\n",
    "\n",
    "with open('chats-2.json') as f:\n",
    "  s1=json.load(f)\n",
    "\n",
    "with open('chats-3.json') as f:\n",
    "  s2=json.load(f)"
   ]
  },
  {
   "cell_type": "code",
   "execution_count": null,
   "metadata": {
    "colab": {
     "base_uri": "https://localhost:8080/"
    },
    "id": "cYuqKH9qBtan",
    "outputId": "4860ab16-bd3d-45d7-d5cf-f808d25648cf"
   },
   "outputs": [
    {
     "data": {
      "text/plain": [
       "{'bot_profile': ['i have amazing children and grandchildren.',\n",
       "  'i can sew my own clothes.',\n",
       "  'i had cancer but its gone now.',\n",
       "  'i am retired and living the great life.',\n",
       "  'i do not have a smartphone.'],\n",
       " 'dialog': [{'evaluation_score': None,\n",
       "   'id': 0,\n",
       "   'sender': 'participant2',\n",
       "   'sender_class': 'Bot',\n",
       "   'text': 'I love iphone! i just bought new iphone!'},\n",
       "  {'evaluation_score': None,\n",
       "   'id': 1,\n",
       "   'sender': 'participant1',\n",
       "   'sender_class': 'Human',\n",
       "   'text': \"Thats good for you, i'm not very into new tech\"},\n",
       "  {'evaluation_score': None,\n",
       "   'id': 2,\n",
       "   'sender': 'participant2',\n",
       "   'sender_class': 'Bot',\n",
       "   'text': 'I am a college student and i am a college student'},\n",
       "  {'evaluation_score': None,\n",
       "   'id': 3,\n",
       "   'sender': 'participant1',\n",
       "   'sender_class': 'Human',\n",
       "   'text': 'I am go to gym and live on donations'},\n",
       "  {'evaluation_score': None,\n",
       "   'id': 4,\n",
       "   'sender': 'participant2',\n",
       "   'sender_class': 'Bot',\n",
       "   'text': 'I am a vegan and i am in the midwest'},\n",
       "  {'evaluation_score': None,\n",
       "   'id': 5,\n",
       "   'sender': 'participant1',\n",
       "   'sender_class': 'Human',\n",
       "   'text': 'So vegan... i have dogs maybe i should told then that they may eat cheap salads insted of meat'},\n",
       "  {'evaluation_score': None,\n",
       "   'id': 6,\n",
       "   'sender': 'participant2',\n",
       "   'sender_class': 'Bot',\n",
       "   'text': 'I would not mind having them in the office that would be hard for me'},\n",
       "  {'evaluation_score': None,\n",
       "   'id': 7,\n",
       "   'sender': 'participant1',\n",
       "   'sender_class': 'Human',\n",
       "   'text': 'Dogs or vegan in office?'},\n",
       "  {'evaluation_score': None,\n",
       "   'id': 8,\n",
       "   'sender': 'participant2',\n",
       "   'sender_class': 'Bot',\n",
       "   'text': 'I am a vegetarian so i am vegan'},\n",
       "  {'evaluation_score': None,\n",
       "   'id': 9,\n",
       "   'sender': 'participant1',\n",
       "   'sender_class': 'Human',\n",
       "   'text': 'Strange answer'},\n",
       "  {'evaluation_score': None,\n",
       "   'id': 10,\n",
       "   'sender': 'participant2',\n",
       "   'sender_class': 'Bot',\n",
       "   'text': 'I guess i just do not know what to ps4 experience with.'}],\n",
       " 'end_time': '2018-07-04 08:36:55.484000',\n",
       " 'eval_score': 1,\n",
       " 'participant1_id': {'class': 'User', 'user_id': 'User 00686'},\n",
       " 'participant2_id': {'class': 'Bot', 'user_id': 'Bot 002'},\n",
       " 'profile_match': 0,\n",
       " 'start_time': '2018-07-04 08:34:51.235000',\n",
       " 'user_profile': ['two dogs live with me.',\n",
       "  'i like doing the treadmill and rowing machine.',\n",
       "  \"eating is something i do when i'm bored.\",\n",
       "  'i have short hair.',\n",
       "  'i go to the gym regularly.']}"
      ]
     },
     "execution_count": 8,
     "metadata": {},
     "output_type": "execute_result"
    }
   ],
   "source": [
    "# Exploring the data format\n",
    "\n",
    "s[0]"
   ]
  },
  {
   "cell_type": "markdown",
   "metadata": {},
   "source": [
    "We have the conversation text in the dialog key. So we need to parse and get the text"
   ]
  },
  {
   "cell_type": "code",
   "execution_count": null,
   "metadata": {
    "id": "2TL5icqFz6ZQ"
   },
   "outputs": [],
   "source": [
    "# Code to parse and get the required text\n",
    "\n",
    "data = []\n",
    "\n",
    "for x in s:\n",
    "  p=[]\n",
    "  for y in range(0,len(x['dialog'])):\n",
    "      a = x['dialog'][y]['text']\n",
    "      p.append(a)\n",
    "  data.append(p)\n",
    "\n",
    "data1 = []\n",
    "\n",
    "for x in s1:\n",
    "  p=[]\n",
    "  for y in range(0,len(x['dialog'])):\n",
    "      a = x['dialog'][y]['text']\n",
    "      p.append(a)\n",
    "  data1.append(p)\n",
    "    \n",
    "data2 = []\n",
    "\n",
    "for x in s2:\n",
    "  p=[]\n",
    "  for y in range(0,len(x['dialog'])):\n",
    "      a = x['dialog'][y]['text']\n",
    "      p.append(a)\n",
    "  data2.append(p)"
   ]
  },
  {
   "cell_type": "code",
   "execution_count": null,
   "metadata": {
    "colab": {
     "base_uri": "https://localhost:8080/"
    },
    "id": "v1NTDTkPCB_I",
    "outputId": "1719afe5-e24b-46e5-c009-2c15d39d0946"
   },
   "outputs": [
    {
     "data": {
      "text/plain": [
       "3127"
      ]
     },
     "execution_count": 10,
     "metadata": {},
     "output_type": "execute_result"
    }
   ],
   "source": [
    "len(data)"
   ]
  },
  {
   "cell_type": "code",
   "execution_count": null,
   "metadata": {
    "id": "xHoRwb2qC9gA"
   },
   "outputs": [],
   "source": [
    "data.extend(data1)\n",
    "data.extend(data2)"
   ]
  },
  {
   "cell_type": "code",
   "execution_count": null,
   "metadata": {
    "colab": {
     "base_uri": "https://localhost:8080/"
    },
    "id": "vcK4KmecDBuW",
    "outputId": "e29e2f2b-f2fa-4543-82c0-b3ca49dd6542"
   },
   "outputs": [
    {
     "data": {
      "text/plain": [
       "4529"
      ]
     },
     "execution_count": 12,
     "metadata": {},
     "output_type": "execute_result"
    }
   ],
   "source": [
    "len(data)"
   ]
  },
  {
   "cell_type": "code",
   "execution_count": null,
   "metadata": {
    "colab": {
     "base_uri": "https://localhost:8080/"
    },
    "id": "WYMFnFDs4lfI",
    "outputId": "0c2dd039-9937-4ed0-a938-5403c6d77ecc"
   },
   "outputs": [
    {
     "data": {
      "text/plain": [
       "['I love iphone! i just bought new iphone!',\n",
       " \"Thats good for you, i'm not very into new tech\",\n",
       " 'I am a college student and i am a college student',\n",
       " 'I am go to gym and live on donations',\n",
       " 'I am a vegan and i am in the midwest',\n",
       " 'So vegan... i have dogs maybe i should told then that they may eat cheap salads insted of meat',\n",
       " 'I would not mind having them in the office that would be hard for me',\n",
       " 'Dogs or vegan in office?',\n",
       " 'I am a vegetarian so i am vegan',\n",
       " 'Strange answer',\n",
       " 'I guess i just do not know what to ps4 experience with.']"
      ]
     },
     "execution_count": 16,
     "metadata": {},
     "output_type": "execute_result"
    }
   ],
   "source": [
    "# example of the text\n",
    "\n",
    "data[0]"
   ]
  },
  {
   "cell_type": "code",
   "execution_count": null,
   "metadata": {
    "id": "Kzzu2iS-0SPO"
   },
   "outputs": [],
   "source": [
    "# seeing the lengths of each chat\n",
    "\n",
    "lens=[]\n",
    "for i in data:\n",
    "  lens.append(len(i))"
   ]
  },
  {
   "cell_type": "code",
   "execution_count": null,
   "metadata": {
    "id": "dQpWxK574OJV"
   },
   "outputs": [],
   "source": [
    "import seaborn as sns"
   ]
  },
  {
   "cell_type": "code",
   "execution_count": null,
   "metadata": {
    "colab": {
     "base_uri": "https://localhost:8080/",
     "height": 335
    },
    "id": "jNrBNU0k4jrV",
    "outputId": "4b895a04-367a-4cd0-ff80-afa2f1045e8f"
   },
   "outputs": [
    {
     "name": "stderr",
     "output_type": "stream",
     "text": [
      "/usr/local/lib/python3.7/dist-packages/seaborn/distributions.py:2619: FutureWarning: `distplot` is a deprecated function and will be removed in a future version. Please adapt your code to use either `displot` (a figure-level function with similar flexibility) or `histplot` (an axes-level function for histograms).\n",
      "  warnings.warn(msg, FutureWarning)\n"
     ]
    },
    {
     "data": {
      "text/plain": [
       "<matplotlib.axes._subplots.AxesSubplot at 0x7f26fbd33710>"
      ]
     },
     "execution_count": 15,
     "metadata": {},
     "output_type": "execute_result"
    },
    {
     "data": {
      "image/png": "iVBORw0KGgoAAAANSUhEUgAAAYgAAAD4CAYAAAD2FnFTAAAABHNCSVQICAgIfAhkiAAAAAlwSFlzAAALEgAACxIB0t1+/AAAADh0RVh0U29mdHdhcmUAbWF0cGxvdGxpYiB2ZXJzaW9uMy4yLjIsIGh0dHA6Ly9tYXRwbG90bGliLm9yZy+WH4yJAAAbi0lEQVR4nO3dfZBd9X3f8ffn3n3QrgR6QvGDBAgXGY/s1NiVAcdppolrG2InSie4AeKYuKS4rZmkTtNWpC3BHs+kZDJQdyAZaMClah2IieOohJQJD3XjlsiI2g4IrLAGDKJOkNDzw2p37/32j/M7u0dXV7t3lz17tfd8XjM7e+855+7+zh5GH34P53sUEZiZmbWqdbsBZmZ2ZnJAmJlZWw4IMzNrywFhZmZtOSDMzKytvm43YL6cc845sX79+m43w8xsUXnqqaf2RsSadvt6JiDWr1/Pjh07ut0MM7NFRdL3T7fPQ0xmZtaWA8LMzNpyQJiZWVsOCDMza8sBYWZmbTkgzMysLQeEmZm15YAwM7O2HBBt/M7/HOEXv/TNbjfDzKyrHBBtPPPqQZ79f4e63Qwzs65yQLRxeHSCRtNP2jOzanNAtHF4dILxRrPbzTAz6yoHRBuHR8fdgzCzynNAtHF4dIJxB4SZVZwDoo0jJyaY8BCTmVWcA6LFRKPJsbEGzYCmexFmVmEOiBZHTkxMvp5wQJhZhTkgWhweLQaEh5nMrLocEC1ODgj3IMysuhwQLQ6Pjk++nmg4IMysuhwQLU6ag/BKJjOrMAdECw8xmZllHBAtPMRkZpZxQLQ4XBhiGvcqJjOrMAdEi+IQk+sxmVmVOSBaFIeYXNHVzKqs1ICQdLmkXZJGJG1ps39Q0v1p/3ZJ61v2nyfpiKRfK7OdRUeKk9SegzCzCistICTVgTuAK4CNwNWSNrYcdh2wPyIuBG4DbmnZfyvwp2W1sR2vYjIzy5TZg7gEGImIFyJiDLgP2NxyzGbg3vT6AeCDkgQg6WeAF4GdJbbxFCcFhIeYzKzCygyItcArhfe707a2x0TEBHAQWC1pGfCvgc9N9wskXS9ph6Qde/bsmZdGHz4xwdlL+gBPUptZtZ2pk9Q3A7dFxJHpDoqIuyJiU0RsWrNmzbz84sOj46xcOgDghwaZWaX1lfizXwXOLbxfl7a1O2a3pD5gOfA6cClwpaTfAlYATUmjEXF7ie0FsiGm9ecs5fuvH/MQk5lVWpkB8SSwQdIFZEFwFXBNyzHbgGuBJ4ArgcciIoC/mx8g6WbgyEKEQ0Rw5MQEq4b7AU9Sm1m1lRYQETEh6QbgYaAO3BMROyV9HtgREduAu4GtkkaAfWQh0jXHxxs0msHK4WyIyctczazKyuxBEBEPAQ+1bLup8HoU+PgMP+PmUhrXRr6CaUUeEC61YWYVVmpALDZHUx2m7+87CsCfP7+Xoycak/uvufS8rrTLzKwbztRVTF2RL2vtr2V/lqbnIMyswhwQBY3IAqGvrpPem5lVkQOiIJ9y6HMPwszMAVHUzHsQtbwH0c3WmJl1lwOiIJ+DyIeY3IMwsypzQBQ0WnoQTc9BmFmFOSAKIgVCPc1BuFifmVWZA6IgL71UrwnhHoSZVZsDoiDvMUhQqwnX6jOzKnNAFORDTDWJuuQehJlVmgOiIJ+kFlCr+UY5M6s2B0RBPsRUU9aL8DJXM6syB0RBPqQkiXpNXsVkZpXmgCjIS23UpKwH4XwwswpzQBRMzkEoW+rqSWozqzIHREGzuMxVHmIys2pzQBQ0Cstca/KNcmZWbQ6IgrzDIPAktZlVngOioNks9iA8B2Fm1eaAKCiW2qjXNLmqycysihwQBSfPQch3UptZpTkgCiKKxfpc7tvMqs0BUZBXb5WL9ZmZOSCKpoaY8jkIB4SZVZcDoiAKtZhcasPMqs4BUTBZzZX8gUFOCDOrLgdEwdQyV1GXnwdhZtXmgChoRsvzIBwQZlZhDoiCyVIb6XkQnqQ2sypzQBQU76T2HISZVZ0DouDUWkxdbpCZWRc5IApOemCQJ6nNrOIcEAWt5b49B2FmVeaAKGg2g5qKN8o5IMysuhwQBY0I6jUB2SR1M6burjYzqxoHREHWg8gCIg8Kz0OYWVWVGhCSLpe0S9KIpC1t9g9Kuj/t3y5pfdp+iaRvp6/vSPoHZbYz14ypgMi/+6FBZlZVpQWEpDpwB3AFsBG4WtLGlsOuA/ZHxIXAbcAtafszwKaIuBi4HLhTUl9Zbc01mlM9h3r2zfMQZlZZZfYgLgFGIuKFiBgD7gM2txyzGbg3vX4A+KAkRcSxiJhI25cAC/KvdNaDyF7XankPwgFhZtVUZkCsBV4pvN+dtrU9JgXCQWA1gKRLJe0Engb+SSEwStMsTlLLcxBmVm1n7CR1RGyPiHcC7wNulLSk9RhJ10vaIWnHnj173vDvbLSbpHYPwswqqsyAeBU4t/B+XdrW9pg0x7AceL14QEQ8BxwB3tX6CyLirojYFBGb1qxZ84Yb3IyYHFqanKR2PphZRZUZEE8CGyRdIGkAuArY1nLMNuDa9PpK4LGIiPSZPgBJ5wPvAF4qsa1A1luoT/Ygsm2egzCzqiptZVBETEi6AXgYqAP3RMROSZ8HdkTENuBuYKukEWAfWYgA/CiwRdI40AT+WUTsLautuWbgOQgzs6TUpaMR8RDwUMu2mwqvR4GPt/ncVmBrmW1rp9kMlK9imhxickCYWTWdsZPU3VAsteFJajOrOgdEwclzEL4PwsyqzQFREMEpQ0wN54OZVZQDoqDRLFZzzbZ5DsLMqsoBUdAoFOvLh5o8B2FmVeWAKGg2Ty214R6EmVWVA6KgWO7bk9RmVnUOiIJGTFVxrdU8SW1m1eaAKGg2Y/I5EHnZb/cgzKyqHBAFxXLfdZfaMLOK6yggJH1V0kcl9XSgNJqBdPIQk3sQZlZVnf6D/zvANcDzkv69pItKbFPXNKNwJ7V7EGZWcR0FREQ8EhE/D7yXrOz2I5L+j6RPSeovs4ELqXij3EBf9qcZm2h2s0lmZl3T8ZCRpNXALwK/BHwL+CJZYPxZKS3rgmZhFdNgX42a4PhYo8utMjPrjo7KfUv6I+AishLcPxURP0i77pe0o6zGLbTsPojstSSW9Nc5Nu6AMLNq6vR5EP8pPdthkqTBiDgREZtKaFdXFKu5AgwP1N2DMLPK6nSI6Qtttj0xnw05EzSaU8+kBhjqr3PcPQgzq6hpexCS3gysBYYkvQfI//U8GxguuW0LLmLqBjmAoYE6R084IMysmmYaYvoI2cT0OuDWwvbDwK+X1KauKT5RDmB4oI+9R8a62CIzs+6ZNiAi4l7gXkk/GxF/uEBt6ppmc6pYH5BNUo9NdLFFZmbdM9MQ0yci4r8C6yX9auv+iLi1zccWrVN7EHVGx5snVXk1M6uKmYaYlqbvy8puyJmgNQiG+usAjI43GB7odMGXmVlvmGmI6c70/XML05zuajY5OSAGsoA4PuaAMLPq6bRY329JOltSv6RHJe2R9ImyG7fQslIbU++HUw/CS13NrIo6vQ/iwxFxCPgYWS2mC4F/WVajuqXZMgeR9yCO+WY5M6ugTgMiH1/5KPCViDhYUnu6qhlT5b5hag7Cd1ObWRV1OrD+oKTvAseBfyppDTBaXrO6o7XUxuQchIeYzKyCOi33vQX4EWBTRIwDR4HNZTasG4rlvsFDTGZWbbNZmvMOsvship/5L/Pcnq7KSm1MBURfrcZAvcaoexBmVkGdlvveCvwt4NtA/q9l0GMB0SiU+84NDdTdgzCzSuq0B7EJ2BjR28/fbB1iglTR1eU2zKyCOl3F9Azw5jIbciZoxsnlviHrQXiS2syqqNMexDnAs5K+CZzIN0bET5fSqi5ptpT7hqwHsffIifYfMDPrYZ0GxM1lNuJM0brMFfKCfe5BmFn1dBQQEfF1SecDGyLiEUnDQL3cpi2sZjObXmkdYhoe6OPoiQY9Pv1iZnaKTmsx/WPgAeDOtGkt8LWyGtUNjRQArT2Is5b00YjwSiYzq5xOJ6k/A3wAOAQQEc8DP1RWo7qhGe17EGcP9QNweNQrmcysWjoNiBMRMfnszXSzXE+NuTSb2ffWBwOdNZiNwh0aHV/oJpmZdVWnAfF1Sb8ODEn6EPAV4L/P9CFJl0vaJWlE0pY2+wcl3Z/2b5e0Pm3/kKSnJD2dvv9E56c0N5NDTC1/kbOWZAHhHoSZVU2nAbEF2AM8DXwaeAj4t9N9QFIduAO4AtgIXC1pY8th1wH7I+JC4DbglrR9L/BTEfHDwLXA1g7bOWeTQ0ynzEHkQ0zuQZhZtXS6iqkp6WvA1yJiT4c/+xJgJCJeAJB0H1mBv2cLx2xmagntA8DtkhQR3yocs5Os5zIYEaXdkDC5iqklIAb6aizpr3HIPQgzq5hpexDK3CxpL7AL2JWeJndTBz97LfBK4f3utK3tMRExARwEVrcc87PA/20XDpKul7RD0o49ezrNrfYazXyISafsO2tJv3sQZlY5Mw0xfZZs9dL7ImJVRKwCLgU+IOmzZTdO0jvJhp0+3W5/RNwVEZsiYtOaNWve0O9qnGYVE2TzEJ6DMLOqmSkgfgG4OiJezDekIaNPAJ+c4bOvAucW3q9L29oek1ZGLQdeT+/XAX8EfDIivjfD73rD8vvgWu+DADh7Sb9XMZlZ5cwUEP0Rsbd1Y5qH6J/hs08CGyRdIGkAuArY1nLMNrJJaIArgcciIiStAP4E2BIR/3umk5gPjck5iFP35T0I301tZlUyU0CMzXFfPqdwA/Aw8BzwBxGxU9LnJeVF/u4GVksaAX6VbLUU6XMXAjdJ+nb6KvXGvMZpSm1A1oNoNIMDx9yLMLPqmGkV07slHWqzXcCSmX54RDxEtiS2uO2mwutR4ONtPvcF4Asz/fz51CyU2phouQcwvxfitcMnWLl0YCGbZWbWNdMGRET0VEG+6aQOBLU2far8Xoi/OTTKRW8+awFbZWbWPZ3eKNfzGqe5DwLg7EIPwsysKhwQyeQQ02nugwB47fDogrbJzKybHBDJ5I1ybXoQA301+mryJLWZVYoDIsl7EGoTEJA9We7AsWkXbpmZ9RQHRJKX+243xATZk+X2uwdhZhXigEhOV+47NzRQ56ADwswqxAGRnK7cd254oM5+DzGZWYU4IJLTlfvODfXXOXDcPQgzqw4HRDJduW/I5iAOHBtzPSYzqwwHRNLoYIhpvBEcG2ssZLPMzLrGAZFMlvs+bQ8iqzrieQgzqwoHRDJduW/IVjEBvlnOzCrDAZFM90Q5yOYgAA56otrMKsIBkTSnKbUBUz0IDzGZWVU4IJLJct/TTFKDh5jMrDocEMnUE+Xa7x/uzwPCPQgzqwYHRDJduW+AvnotFexzD8LMqsEBkUxX7ju3YqjfBfvMrDIcEMlM5b4BVgwPcPC4h5jMrBocEMlMQ0wAK4bdgzCz6nBAJI38eRDT9iD6PUltZpXhgEgmy31P8xdZMTzgSWozqwwHRDJTuW/IJqkPHB93RVczqwQHRNLoYA5i5fAAjWZw+MTEQjXLzKxrHBBJJz2I5cP9AH70qJlVggMiac5Q7huyHgS4HpOZVYMDIpmp3Ddkq5jA9ZjMrBocEElzhnLfACtTQLgHYWZV4IBIOim1sXwoG2LyMyHMrAocEEkncxD5ENP+ow4IM+t9DohkqhbT6Y/pr9dYNtjHAddjMrMKcEAknQwxQdaL8DJXM6sCB0QyGRDTLWMiL9jnHoSZ9T4HRBIdlPuG7F6IA56kNrMKcEAkjYgZew8Ay4f6fR+EmVWCAyJpNGeef4DUg/AQk5lVgAMiiYhpS33nVgz3c/D4+GTtJjOzXlVqQEi6XNIuSSOStrTZPyjp/rR/u6T1aftqSY9LOiLp9jLbmGs0Y9pCfbkVwwM0Aw6PuqKrmfW20gJCUh24A7gC2AhcLWljy2HXAfsj4kLgNuCWtH0U+HfAr5XVvlaNiI6GmFYMudyGmVVDmT2IS4CRiHghIsaA+4DNLcdsBu5Nrx8APihJEXE0Ir5BFhQLotmMaesw5VYuTQX7vJLJzHpcmQGxFnil8H532tb2mIiYAA4Cqzv9BZKul7RD0o49e/a8ocY2Y+Z7IGCqHpN7EGbW6xb1JHVE3BURmyJi05o1a97Qz2pETFvqO7fSDw0ys4ooMyBeBc4tvF+XtrU9RlIfsBx4vcQ2nVZzFpPU4B6EmfW+vhJ/9pPABkkXkAXBVcA1LcdsA64FngCuBB6L/JbmBdZoznyj3Je3vzxZ1O/Pn9/LYF8dgGsuPa/09pmZLbTSAiIiJiTdADwM1IF7ImKnpM8DOyJiG3A3sFXSCLCPLEQAkPQScDYwIOlngA9HxLNltbcZ0z+POleTGOqvc/SEl7maWW8rswdBRDwEPNSy7abC61Hg46f57Poy29aq2eGNcgBLB/s4OtYot0FmZl22qCep51Oj2dl9EADLBt2DMLPe54BIGtHZfRCQehAOCDPrcQ6IJKKzVUyQBcQRB4SZ9TgHRDLRCPo67EEsG+zj+FhjckWTmVkvckAkx8cbLOmvd3Ts0oE6ARzzRLWZ9TAHRHJ8rMHwQIcBMZgt/vIwk5n1MgdEcmwOAeGJajPrZQ6I5Ph4g6GBzm4LWeaAMLMKcEAkx8YmGO50DsIBYWYV4IBIjo01GOpwiGl4oI6AIyc8SW1mvcsBkcxmkromMTxQ5+iYexBm1rscEMDYRJOJZnQcEOC7qc2s9zkgyHoPQMeT1OC7qc2s9zkggGPj2T/0s+9BeA7CzHqXA4KpO6KHOlzFBK7oama9zwFBcYhpFj2IgT6OjzdoNF2Pycx6kwOCqR7EbIaYzh7qB+DQ6HgpbTIz6zYHBNlNcjC7gFi1dACAfUfHSmmTmVm3OSAoDDH1d76KadVwFhD7HRBm1qMcEMx9iKkm9yDMrHc5IIBj47MPiHpNrBgeYN8xB4SZ9SYHBDA6h1VMkM1DuAdhZr3KAUFxiKnzOQjI5iEcEGbWqxwQZHdSD/TVqHf4TOrcqqUDHBtrcNhLXc2sBzkgmF0l16KVaanrK/uOz3eTzMy6zgFBetzoLMps5PJ7IV7ed2y+m2Rm1nUOCLIexGwnqGHqXohXHBBm1oMcEKTHjc5yghqyVU9D/XVGXjtSQqvMzLrLAUF63OgchpgA1p+zlG+M7CXCRfvMrLc4IIDj43MbYgLY8EPLePXAcV7Ye3SeW2Vm1l0OCNIk9RwD4u1vOguA//VXe+azSWZmXeeAYO6T1JCtZFq/etgBYWY9xwFBPkk9t4AA+LG3r+EvXtg3WTbczKwXOCDIh5hmv4opt/nit3J8vMEX/uS5eWyVmVl3VT4gGs3gxERzzquYAP7O+av49I+9jS9vf5k/ffoH89g6M7Pumfv/NveI43Mo9d3qy9tfZu3KIdatHOKX7/sWv7T7IOeuGuaaS8+br2aamS24yvcg5vK40Xb6ajV+4bLzOWtJP/c+8RIvedmrmS1ylQ+I0bEmAENvYA4id9aSfj71I+sZ6q/ze994gd9+eJfLgZvZolVqQEi6XNIuSSOStrTZPyjp/rR/u6T1hX03pu27JH2krDYeG5+fHkRu9bJBPvPjF/Kutcu5/fERLvvNR/nUl77J1ideYvd+12wys8WjtDkISXXgDuBDwG7gSUnbIuLZwmHXAfsj4kJJVwG3AD8naSNwFfBO4K3AI5LeHhGN+W7nsTk+TW46S/rrXPW+8/jxi0Z58qV9fGf3QR7ftQf+eCfnrhziY+9+K3Vlz56QYPIpFPk2oK8mli3pY9lgH2ct6WPZYH/L+z6GB+pIs3uGhZlZp8qcpL4EGImIFwAk3QdsBooBsRm4Ob1+ALhd2b94m4H7IuIE8KKkkfTznpjvRl68bgU7P/cRBvrmvzP1prOX8LG//VY++sPB3iNjPPuDQ3znlQPc+fXvAVAs3zTXSk71mqgJahI1CeeFWfVc/q43c+s/vHjef26ZAbEWeKXwfjdw6emOiYgJSQeB1Wn7X7R8dm3rL5B0PXB9entE0q75aTrnAHvn6Wed6ap0rlCt863SuUK1zvekc30OuO3n5vyzzj/djkW9zDUi7gLumu+fK2lHRGya7597JqrSuUK1zrdK5wrVOt+FOtcyJ6lfBc4tvF+XtrU9RlIfsBx4vcPPmplZicoMiCeBDZIukDRANum8reWYbcC16fWVwGORPVhhG3BVWuV0AbAB+GaJbTUzsxalDTGlOYUbgIeBOnBPROyU9HlgR0RsA+4GtqZJ6H1kIUI67g/IJrQngM+UsYJpGvM+bHUGq9K5QrXOt0rnCtU63wU5V/lJaGZm1k7l76Q2M7P2HBBmZtaWA6JgptIgi5GkcyU9LulZSTsl/UravkrSn0l6Pn1fmbZL0n9Mf4O/lPTe7p7B7EmqS/qWpAfT+wtSKZeRVNplIG0/bamXxULSCkkPSPqupOckvb9Xr62kz6b/hp+R9PuSlvTStZV0j6TXJD1T2Dbraynp2nT885Kubfe7OuWASAqlQa4ANgJXp5Ifi90E8C8iYiNwGfCZdF5bgEcjYgPwaHoP2flvSF/XA7+78E1+w36F7N6h3C3AbRFxIbCfrMQLFEq9ALel4xabLwL/IyLeAbyb7Lx77tpKWgv8MrApIt5FtvAlL8/TK9f2PwOXt2yb1bWUtAr4DbKbki8BfiMPlTmJCH9lE/XvBx4uvL8RuLHb7SrhPP+YrD7WLuAtadtbgF3p9Z3A1YXjJ49bDF9k98w8CvwE8CBZaau9QF/rdSZbYff+9LovHadun8MsznU58GJrm3vx2jJVdWFVulYPAh/ptWsLrAeemeu1BK4G7ixsP+m42X65BzGlXWmQU8p7LGapm/0eYDvwpojIH3/318Cb0uvF/nf4D8C/Aprp/WrgQETkDwwvns9JpV6AvNTLYnEBsAf4UhpS+z1JS+nBaxsRrwK/DbwM/IDsWj1F717b3Gyv5bxeYwdERUhaBvwh8M8j4lBxX2T/q7Ho1ztL+hjwWkQ81e22LJA+4L3A70bEe4CjTA1BAD11bVeSFfG8gKzC81JOHY7pad24lg6IKT1b3kNSP1k4/LeI+Gra/DeS3pL2vwV4LW1fzH+HDwA/Lekl4D6yYaYvAitSKRc4+XxOV+plsdgN7I6I7en9A2SB0YvX9u8DL0bEnogYB75Kdr179drmZnst5/UaOyCmdFIaZNGRJLI71p+LiFsLu4plTq4lm5vIt38yrZK4DDhY6OKe0SLixohYFxHrya7fYxHx88DjZKVc4NRzbVfqZVGIiL8GXpF0Udr0QbLqAz13bcmGli6TNJz+m87PtSevbcFsr+XDwIclrUy9rg+nbXPT7UmZM+kL+Engr4DvAf+m2+2Zp3P6UbJu6V8C305fP0k2Hvso8DzwCLAqHS+y1VzfA54mWzXS9fOYw3n/PeDB9PptZLW8RoCvAINp+5L0fiTtf1u32z2H87wY2JGu79eAlb16bYHPAd8FngG2AoO9dG2B3yebXxkn6x1eN5drCfyjdN4jwKfeSJtcasPMzNryEJOZmbXlgDAzs7YcEGZm1pYDwszM2nJAmJlZWw4IMzNrywFhZmZt/X/FhHFX8MlIBwAAAABJRU5ErkJggg==\n",
      "text/plain": [
       "<Figure size 432x288 with 1 Axes>"
      ]
     },
     "metadata": {
      "needs_background": "light"
     },
     "output_type": "display_data"
    }
   ],
   "source": [
    "sns.distplot(lens)"
   ]
  },
  {
   "cell_type": "markdown",
   "metadata": {},
   "source": [
    "We can see it is normally distributed and most of text lengths lie below 200"
   ]
  },
  {
   "cell_type": "markdown",
   "metadata": {},
   "source": [
    "# Input Format"
   ]
  },
  {
   "cell_type": "markdown",
   "metadata": {},
   "source": [
    "We need to chatbot to understand context of the chat inorder to generate accurate results.\n",
    "So we encoded the past 10 chat sentences as well"
   ]
  },
  {
   "cell_type": "markdown",
   "metadata": {},
   "source": [
    "So at a particular point of prediction time, the model takes the previous 10 chat sentences, encode them into a single sentence and generate the reply based on the context."
   ]
  },
  {
   "cell_type": "markdown",
   "metadata": {},
   "source": [
    "If the previous chat sentences are <10, it just considers all the chat sentences above. If it is >10, then we consider the most recent 10 chat sentences."
   ]
  },
  {
   "cell_type": "code",
   "execution_count": null,
   "metadata": {
    "id": "mJ5Mlc9545Wy"
   },
   "outputs": [],
   "source": [
    "x=[]\n",
    "y=[]\n",
    "for i in data:\n",
    "  for j in range(1,len(i)-1):\n",
    "    a=i[:j]\n",
    "    if(len(a)>10):\n",
    "      a=a[-10:]\n",
    "    b=i[j]\n",
    "    x.append(' <eos> '.join(a))\n",
    "    y.append('<bos> '+b)"
   ]
  },
  {
   "cell_type": "code",
   "execution_count": null,
   "metadata": {
    "id": "MTpGJg8A7AXB"
   },
   "outputs": [],
   "source": [
    "!pip install transformers\n",
    "!pip install sentencepiece"
   ]
  },
  {
   "cell_type": "code",
   "execution_count": null,
   "metadata": {
    "id": "jewgkyNM6f4-"
   },
   "outputs": [],
   "source": [
    "from transformers import T5Tokenizer, TFT5ForConditionalGeneration"
   ]
  },
  {
   "cell_type": "code",
   "execution_count": null,
   "metadata": {
    "id": "kmA3wn6a7OG5"
   },
   "outputs": [],
   "source": [
    "# Initailizing the tokenizer\n",
    "\n",
    "tokenizer = T5Tokenizer.from_pretrained('t5-small')"
   ]
  },
  {
   "cell_type": "code",
   "execution_count": null,
   "metadata": {
    "colab": {
     "base_uri": "https://localhost:8080/"
    },
    "id": "gkJca6-_7-S0",
    "outputId": "f90ce57e-1b03-4ce2-974f-0e700623800b"
   },
   "outputs": [
    {
     "data": {
      "text/plain": [
       "3"
      ]
     },
     "execution_count": 21,
     "metadata": {},
     "output_type": "execute_result"
    }
   ],
   "source": [
    "# Adding the special tokens to the tokenizer\n",
    "\n",
    "tokenizer.add_special_tokens({'bos_token':'<bos>','eos_token':'<eos>','sep_token':'<sep>'})"
   ]
  },
  {
   "cell_type": "code",
   "execution_count": null,
   "metadata": {
    "id": "ObO6Y3kL-4i3"
   },
   "outputs": [],
   "source": [
    "# Encoding the input texts\n",
    "\n",
    "inputs=tokenizer(x,truncation=True,padding='max_length',max_length=300)"
   ]
  },
  {
   "cell_type": "code",
   "execution_count": null,
   "metadata": {
    "id": "qegrQfXo_CSt"
   },
   "outputs": [],
   "source": [
    "# Encoding the label texts\n",
    "\n",
    "labels=tokenizer(y,truncation=True,padding='max_length',max_length=80)"
   ]
  },
  {
   "cell_type": "code",
   "execution_count": null,
   "metadata": {
    "id": "D86DwR_7_etk"
   },
   "outputs": [],
   "source": [
    "# Convert input encodings to numpy arrays\n",
    "\n",
    "x=np.array(inputs['input_ids'])\n",
    "x1=np.array(inputs['attention_mask'])"
   ]
  },
  {
   "cell_type": "code",
   "execution_count": null,
   "metadata": {
    "id": "NdGJJ7KR_wCf"
   },
   "outputs": [],
   "source": [
    "# Convert label encodings to numpy arrays\n",
    "\n",
    "y=np.array(labels['input_ids'])\n",
    "y1=np.array(labels['attention_mask'])"
   ]
  },
  {
   "cell_type": "code",
   "execution_count": null,
   "metadata": {
    "id": "9ymDQaKe_yPZ"
   },
   "outputs": [],
   "source": [
    "# Extract the arrays from label encodings (expected to be given in T5 Format)\n",
    "\n",
    "q=y[:,:-1]\n",
    "q1=y1[:,:-1]\n",
    "q2=y[:,1:]"
   ]
  },
  {
   "cell_type": "code",
   "execution_count": null,
   "metadata": {
    "id": "v0TSdrShATob"
   },
   "outputs": [],
   "source": [
    "del(inputs)"
   ]
  },
  {
   "cell_type": "code",
   "execution_count": null,
   "metadata": {
    "id": "u3wt6-om_5q2"
   },
   "outputs": [],
   "source": [
    "# Transfer learning\n",
    "\n",
    "with tpu_strategy.scope():\n",
    "  model = TFT5ForConditionalGeneration.from_pretrained('t5-small')"
   ]
  },
  {
   "cell_type": "code",
   "execution_count": null,
   "metadata": {
    "id": "-92kupn8AQMu"
   },
   "outputs": [],
   "source": [
    "# Resizing Token Embeddings\n",
    "\n",
    "with tpu_strategy.scope():\n",
    "  model.resize_token_embeddings(len(tokenizer))"
   ]
  },
  {
   "cell_type": "code",
   "execution_count": null,
   "metadata": {
    "id": "4a0z7QgkAgYe"
   },
   "outputs": [],
   "source": [
    "# Creating the architecture for our model\n",
    "\n",
    "with tpu_strategy.scope():\n",
    "  inp1=Input((x.shape[1],),dtype='int32')\n",
    "  inp2=Input((x.shape[1],),dtype='int32')\n",
    "  inp3=Input((q.shape[1],),dtype='int32')\n",
    "  inp4=Input((q.shape[1],),dtype='int32')\n",
    "  emb=model(inp1,attention_mask=inp2,decoder_input_ids=inp3,decoder_attention_mask=inp4)[0]\n",
    "  m=Model(inputs=[inp1,inp2,inp3,inp4],outputs=emb)"
   ]
  },
  {
   "cell_type": "code",
   "execution_count": null,
   "metadata": {
    "id": "4Zx9Cz1RA1bF"
   },
   "outputs": [],
   "source": [
    "loss = tensorflow.keras.losses.SparseCategoricalCrossentropy(from_logits=True,reduction=tensorflow.keras.losses.Reduction.NONE)"
   ]
  },
  {
   "cell_type": "code",
   "execution_count": null,
   "metadata": {
    "id": "4riBvpzIAvTN"
   },
   "outputs": [],
   "source": [
    "# Loss function to train our chatbot on\n",
    "\n",
    "def loss_without_pad(real,pred):\n",
    "  res=loss(real,pred)\n",
    "  mask=tf.math.logical_not(tf.math.equal(real, tokenizer.pad_token_id))\n",
    "  mask=tf.cast(mask,dtype=tensorflow.float32)\n",
    "  res=res*mask\n",
    "  a=tf.reduce_sum(res,axis=1)\n",
    "  b=tf.reduce_sum(mask,axis=1)\n",
    "  b+=1e-6\n",
    "  c=tf.reduce_mean(a/b)\n",
    "  return c"
   ]
  },
  {
   "cell_type": "code",
   "execution_count": null,
   "metadata": {
    "id": "R-EtofUcA68U"
   },
   "outputs": [],
   "source": [
    "# Compiling the model\n",
    "\n",
    "with tpu_strategy.scope():\n",
    "  m.compile(optimizer=tensorflow.keras.optimizers.Adam(),loss=loss_without_pad,metrics=['accuracy'])"
   ]
  },
  {
   "cell_type": "code",
   "execution_count": null,
   "metadata": {
    "colab": {
     "base_uri": "https://localhost:8080/"
    },
    "id": "JBavQilDL1ST",
    "outputId": "7077eb6c-5415-4959-dd81-9a0a4d20902d"
   },
   "outputs": [
    {
     "name": "stdout",
     "output_type": "stream",
     "text": [
      "Epoch 1/10\n",
      "1408/1408 [==============================] - 108s 77ms/step - loss: 2.2310 - accuracy: 0.1308 - val_loss: 2.4292 - val_accuracy: 0.0706\n",
      "Epoch 2/10\n",
      "1408/1408 [==============================] - 97s 69ms/step - loss: 2.1095 - accuracy: 0.1157 - val_loss: 2.4192 - val_accuracy: 0.0677\n",
      "Epoch 3/10\n",
      "1408/1408 [==============================] - 97s 69ms/step - loss: 2.0141 - accuracy: 0.1220 - val_loss: 2.4341 - val_accuracy: 0.0811\n",
      "Epoch 4/10\n",
      "1408/1408 [==============================] - 97s 69ms/step - loss: 1.9198 - accuracy: 0.1070 - val_loss: 2.4452 - val_accuracy: 0.0673\n",
      "Epoch 5/10\n",
      "1408/1408 [==============================] - 98s 69ms/step - loss: 1.8365 - accuracy: 0.1059 - val_loss: 2.4649 - val_accuracy: 0.0755\n",
      "Epoch 6/10\n",
      "1408/1408 [==============================] - 97s 69ms/step - loss: 1.7548 - accuracy: 0.1067 - val_loss: 2.5069 - val_accuracy: 0.0727\n",
      "Epoch 7/10\n",
      "1408/1408 [==============================] - 97s 69ms/step - loss: 1.6860 - accuracy: 0.1136 - val_loss: 2.5340 - val_accuracy: 0.0778\n",
      "Epoch 8/10\n",
      "1408/1408 [==============================] - 97s 69ms/step - loss: 1.6159 - accuracy: 0.1137 - val_loss: 2.5720 - val_accuracy: 0.0985\n",
      "Epoch 9/10\n",
      "1408/1408 [==============================] - 97s 69ms/step - loss: 1.5474 - accuracy: 0.1117 - val_loss: 2.6455 - val_accuracy: 0.0752\n",
      "Epoch 10/10\n",
      "1408/1408 [==============================] - 97s 69ms/step - loss: 1.4864 - accuracy: 0.1130 - val_loss: 2.7068 - val_accuracy: 0.0786\n"
     ]
    },
    {
     "data": {
      "text/plain": [
       "<keras.callbacks.History at 0x7f637b9dd950>"
      ]
     },
     "execution_count": 54,
     "metadata": {},
     "output_type": "execute_result"
    }
   ],
   "source": [
    "# Training the model\n",
    "\n",
    "m.fit([x,x1,q,q1],q2,epochs=10,batch_size=32,validation_split=0.1)"
   ]
  },
  {
   "cell_type": "code",
   "execution_count": null,
   "metadata": {
    "colab": {
     "base_uri": "https://localhost:8080/"
    },
    "id": "rO0MPJ1AMLcp",
    "outputId": "707064b2-14f7-45f8-ae9e-a985b334f378"
   },
   "outputs": [
    {
     "name": "stdout",
     "output_type": "stream",
     "text": [
      "Epoch 1/15\n",
      "1408/1408 [==============================] - 98s 69ms/step - loss: 1.4308 - accuracy: 0.1090 - val_loss: 2.6957 - val_accuracy: 0.0808\n",
      "Epoch 2/15\n",
      "1408/1408 [==============================] - 97s 69ms/step - loss: 1.3756 - accuracy: 0.1085 - val_loss: 2.7730 - val_accuracy: 0.0769\n",
      "Epoch 3/15\n",
      "1408/1408 [==============================] - 97s 69ms/step - loss: 1.3299 - accuracy: 0.1080 - val_loss: 2.7782 - val_accuracy: 0.0791\n",
      "Epoch 4/15\n",
      "1408/1408 [==============================] - 97s 69ms/step - loss: 1.2772 - accuracy: 0.1141 - val_loss: 2.8760 - val_accuracy: 0.0973\n",
      "Epoch 5/15\n",
      "1408/1408 [==============================] - 97s 69ms/step - loss: 1.2268 - accuracy: 0.1270 - val_loss: 2.8889 - val_accuracy: 0.1137\n",
      "Epoch 6/15\n",
      "1408/1408 [==============================] - 97s 69ms/step - loss: 1.1880 - accuracy: 0.1356 - val_loss: 2.9640 - val_accuracy: 0.0951\n",
      "Epoch 7/15\n",
      "1408/1408 [==============================] - 97s 69ms/step - loss: 1.1447 - accuracy: 0.1164 - val_loss: 3.0057 - val_accuracy: 0.0881\n",
      "Epoch 8/15\n",
      "1408/1408 [==============================] - 97s 69ms/step - loss: 1.1055 - accuracy: 0.1262 - val_loss: 3.0626 - val_accuracy: 0.0789\n",
      "Epoch 9/15\n",
      "1408/1408 [==============================] - 97s 69ms/step - loss: 1.0648 - accuracy: 0.1258 - val_loss: 3.1053 - val_accuracy: 0.0797\n",
      "Epoch 10/15\n",
      "1408/1408 [==============================] - 98s 69ms/step - loss: 1.0319 - accuracy: 0.1289 - val_loss: 3.1063 - val_accuracy: 0.1088\n",
      "Epoch 11/15\n",
      "1408/1408 [==============================] - 98s 69ms/step - loss: 0.9980 - accuracy: 0.1478 - val_loss: 3.2449 - val_accuracy: 0.0884\n",
      "Epoch 12/15\n",
      "1408/1408 [==============================] - 97s 69ms/step - loss: 0.9659 - accuracy: 0.1355 - val_loss: 3.2579 - val_accuracy: 0.0890\n",
      "Epoch 13/15\n",
      "1408/1408 [==============================] - 97s 69ms/step - loss: 0.9354 - accuracy: 0.1522 - val_loss: 3.2731 - val_accuracy: 0.0738\n",
      "Epoch 14/15\n",
      "1408/1408 [==============================] - 98s 69ms/step - loss: 0.9057 - accuracy: 0.1432 - val_loss: 3.3709 - val_accuracy: 0.0949\n",
      "Epoch 15/15\n",
      "1408/1408 [==============================] - 98s 69ms/step - loss: 0.8758 - accuracy: 0.1600 - val_loss: 3.4518 - val_accuracy: 0.0739\n"
     ]
    },
    {
     "data": {
      "text/plain": [
       "<keras.callbacks.History at 0x7f637723cfd0>"
      ]
     },
     "execution_count": 56,
     "metadata": {},
     "output_type": "execute_result"
    }
   ],
   "source": [
    "m.fit([x,x1,q,q1],q2,epochs=15,batch_size=32,validation_split=0.1)"
   ]
  },
  {
   "cell_type": "code",
   "execution_count": null,
   "metadata": {
    "colab": {
     "base_uri": "https://localhost:8080/"
    },
    "id": "5vHIebMWTRrt",
    "outputId": "eb7ea9b5-cc1c-4014-cb5b-104e4dec7b5a"
   },
   "outputs": [
    {
     "name": "stdout",
     "output_type": "stream",
     "text": [
      "Epoch 1/15\n",
      "1408/1408 [==============================] - 98s 69ms/step - loss: 0.8488 - accuracy: 0.1273 - val_loss: 3.3914 - val_accuracy: 0.0866\n",
      "Epoch 2/15\n",
      "1408/1408 [==============================] - 97s 69ms/step - loss: 0.8238 - accuracy: 0.1481 - val_loss: 3.5222 - val_accuracy: 0.0815\n",
      "Epoch 3/15\n",
      "1408/1408 [==============================] - 98s 69ms/step - loss: 0.7981 - accuracy: 0.1447 - val_loss: 3.5038 - val_accuracy: 0.0919\n",
      "Epoch 4/15\n",
      "1408/1408 [==============================] - 98s 69ms/step - loss: 0.7740 - accuracy: 0.1449 - val_loss: 3.4905 - val_accuracy: 0.0936\n",
      "Epoch 5/15\n",
      "1408/1408 [==============================] - 98s 69ms/step - loss: 0.7491 - accuracy: 0.1507 - val_loss: 3.5313 - val_accuracy: 0.0806\n",
      "Epoch 6/15\n",
      "1408/1408 [==============================] - 98s 69ms/step - loss: 0.7265 - accuracy: 0.1550 - val_loss: 3.6052 - val_accuracy: 0.0957\n",
      "Epoch 7/15\n",
      "1408/1408 [==============================] - 97s 69ms/step - loss: 0.7085 - accuracy: 0.1528 - val_loss: 3.6928 - val_accuracy: 0.0803\n",
      "Epoch 8/15\n",
      "1408/1408 [==============================] - 98s 69ms/step - loss: 0.6845 - accuracy: 0.1507 - val_loss: 3.7914 - val_accuracy: 0.1521\n",
      "Epoch 9/15\n",
      "1408/1408 [==============================] - 97s 69ms/step - loss: 0.6662 - accuracy: 0.1676 - val_loss: 3.6985 - val_accuracy: 0.0812\n",
      "Epoch 10/15\n",
      "1408/1408 [==============================] - 97s 69ms/step - loss: 0.6488 - accuracy: 0.1472 - val_loss: 3.8210 - val_accuracy: 0.1273\n",
      "Epoch 11/15\n",
      "1408/1408 [==============================] - 98s 69ms/step - loss: 0.6309 - accuracy: 0.1705 - val_loss: 3.7935 - val_accuracy: 0.1017\n",
      "Epoch 12/15\n",
      "1408/1408 [==============================] - 98s 69ms/step - loss: 0.6161 - accuracy: 0.1845 - val_loss: 3.9090 - val_accuracy: 0.0994\n",
      "Epoch 13/15\n",
      "1408/1408 [==============================] - 97s 69ms/step - loss: 0.6010 - accuracy: 0.1695 - val_loss: 3.8394 - val_accuracy: 0.0984\n",
      "Epoch 14/15\n",
      "1408/1408 [==============================] - 98s 69ms/step - loss: 0.5830 - accuracy: 0.1665 - val_loss: 3.9742 - val_accuracy: 0.0856\n",
      "Epoch 15/15\n",
      "1408/1408 [==============================] - 98s 69ms/step - loss: 0.5675 - accuracy: 0.1804 - val_loss: 3.9300 - val_accuracy: 0.1043\n"
     ]
    },
    {
     "data": {
      "text/plain": [
       "<keras.callbacks.History at 0x7f63773ac890>"
      ]
     },
     "execution_count": 58,
     "metadata": {},
     "output_type": "execute_result"
    }
   ],
   "source": [
    "m.fit([x,x1,q,q1],q2,epochs=15,batch_size=32,validation_split=0.1)"
   ]
  },
  {
   "cell_type": "code",
   "execution_count": null,
   "metadata": {
    "colab": {
     "base_uri": "https://localhost:8080/"
    },
    "id": "Q6BA9tihc01z",
    "outputId": "cf2fe3f5-06d7-4b24-c777-a8c152159b80"
   },
   "outputs": [
    {
     "name": "stdout",
     "output_type": "stream",
     "text": [
      "Epoch 1/15\n",
      "1408/1408 [==============================] - 99s 70ms/step - loss: 0.4864 - accuracy: 0.1807 - val_loss: 4.2034 - val_accuracy: 0.0804\n",
      "Epoch 2/15\n",
      "1408/1408 [==============================] - 97s 69ms/step - loss: 0.4739 - accuracy: 0.1642 - val_loss: 4.3048 - val_accuracy: 0.0906\n",
      "Epoch 3/15\n",
      "1408/1408 [==============================] - 98s 69ms/step - loss: 0.4652 - accuracy: 0.1808 - val_loss: 4.2985 - val_accuracy: 0.0914\n",
      "Epoch 4/15\n",
      "1408/1408 [==============================] - 98s 69ms/step - loss: 0.4563 - accuracy: 0.1785 - val_loss: 4.2060 - val_accuracy: 0.1524\n",
      "Epoch 5/15\n",
      "1408/1408 [==============================] - 97s 69ms/step - loss: 0.4426 - accuracy: 0.1937 - val_loss: 4.3708 - val_accuracy: 0.1510\n",
      "Epoch 6/15\n",
      "1408/1408 [==============================] - 98s 69ms/step - loss: 0.4370 - accuracy: 0.1952 - val_loss: 4.3135 - val_accuracy: 0.1723\n",
      "Epoch 7/15\n",
      "1408/1408 [==============================] - 98s 70ms/step - loss: 0.4257 - accuracy: 0.2073 - val_loss: 4.3279 - val_accuracy: 0.1555\n",
      "Epoch 8/15\n",
      "1408/1408 [==============================] - 97s 69ms/step - loss: 0.4147 - accuracy: 0.1962 - val_loss: 4.4122 - val_accuracy: 0.1600\n",
      "Epoch 9/15\n",
      "1408/1408 [==============================] - 97s 69ms/step - loss: 0.4097 - accuracy: 0.2305 - val_loss: 4.3579 - val_accuracy: 0.1426\n",
      "Epoch 10/15\n",
      "1408/1408 [==============================] - 98s 69ms/step - loss: 0.3965 - accuracy: 0.1986 - val_loss: 4.3183 - val_accuracy: 0.0731\n",
      "Epoch 11/15\n",
      "1408/1408 [==============================] - 98s 69ms/step - loss: 0.3892 - accuracy: 0.1756 - val_loss: 4.5274 - val_accuracy: 0.1016\n",
      "Epoch 12/15\n",
      "1408/1408 [==============================] - 97s 69ms/step - loss: 0.3837 - accuracy: 0.1971 - val_loss: 4.5006 - val_accuracy: 0.1273\n",
      "Epoch 13/15\n",
      "1408/1408 [==============================] - 97s 69ms/step - loss: 0.3736 - accuracy: 0.1961 - val_loss: 4.3968 - val_accuracy: 0.1324\n",
      "Epoch 14/15\n",
      "1408/1408 [==============================] - 98s 69ms/step - loss: 0.3688 - accuracy: 0.2002 - val_loss: 4.4686 - val_accuracy: 0.1579\n",
      "Epoch 15/15\n",
      "1408/1408 [==============================] - 98s 69ms/step - loss: 0.3585 - accuracy: 0.2292 - val_loss: 4.6300 - val_accuracy: 0.1547\n"
     ]
    },
    {
     "data": {
      "text/plain": [
       "<keras.callbacks.History at 0x7f6376e357d0>"
      ]
     },
     "execution_count": 64,
     "metadata": {},
     "output_type": "execute_result"
    }
   ],
   "source": [
    "m.fit([x,x1,q,q1],q2,epochs=15,batch_size=32,validation_split=0.1)"
   ]
  },
  {
   "cell_type": "code",
   "execution_count": null,
   "metadata": {
    "id": "cAKchuAzcfg-"
   },
   "outputs": [],
   "source": [
    "# Saving our model to reuse later\n",
    "\n",
    "save_locally = tf.saved_model.SaveOptions(experimental_io_device='/job:localhost')\n",
    "m.save_weights('/content/drive/MyDrive/chatbot model/model_weights', options=save_locally)"
   ]
  },
  {
   "cell_type": "code",
   "execution_count": null,
   "metadata": {
    "id": "LHd9ABpqEJoj"
   },
   "outputs": [],
   "source": [
    "# Creating a chat function to chat with our model\n",
    "\n",
    "def chat():\n",
    "  prev=''\n",
    "  while True:\n",
    "    print( \"User: \" , end=\"\")\n",
    "    input_sentence = input()\n",
    "    if input_sentence.lower() == \"quit\":\n",
    "      break\n",
    "    if(prev==''):\n",
    "      prev=input_sentence\n",
    "    else:\n",
    "      prev=prev+' <eos> '+input_sentence\n",
    "\n",
    "    splitted=prev.split('<eos>')\n",
    "    if(len(splitted)>6):\n",
    "      splitted=splitted[-6:]\n",
    "\n",
    "    prev='<eos>'.join(splitted).strip()\n",
    "  \n",
    "    input_ids = tokenizer.encode(prev, return_tensors='tf')\n",
    "\n",
    "    beam_output = model.generate(\n",
    "      input_ids,\n",
    "      max_length = 30,\n",
    "      do_sample=True,\n",
    "      top_k=15,\n",
    "      top_p=0.8,\n",
    "      temperature=1.5\n",
    "    )\n",
    "     \n",
    "    sen=tokenizer.decode(beam_output[0])\n",
    "    if('<eos>' in sen):\n",
    "      k=sen.index('<eos>')\n",
    "      ans=sen[:k]\n",
    "    else:\n",
    "      ans=sen\n",
    "\n",
    "    ans=' '.join(ans.split()[1:])\n",
    "\n",
    "    prev=prev+' <eos> '+ans\n",
    "    print('Bot:',ans)"
   ]
  },
  {
   "cell_type": "markdown",
   "metadata": {},
   "source": [
    "# Some sample chats"
   ]
  },
  {
   "cell_type": "code",
   "execution_count": null,
   "metadata": {
    "colab": {
     "base_uri": "https://localhost:8080/"
    },
    "id": "9F6M5PqmUgxf",
    "outputId": "8696070a-fa8a-4675-aa5e-2ea95400a1ca"
   },
   "outputs": [
    {
     "name": "stdout",
     "output_type": "stream",
     "text": [
      "User: yo bro\n",
      "Bot: i don't understand why people are so concerned about the dress code, no mention it is for the convenience. how was your day?\n",
      "User: my day was good, how is yours?\n",
      "Bot: well, i had a good day today. what do you do for a living?\n",
      "User: i am a actor\n",
      "Bot: what city are you from?\n",
      "User: i am from guntur\n",
      "Bot: Im from bhusawal\n",
      "User: i like to play chess\n",
      "Bot: shoot me too\n",
      "User: what do you know about me\n",
      "Bot: i do not know what that means\n",
      "User: ok so what is my name\n",
      "Bot: i like to read.\n",
      "User: where do i live?\n",
      "Bot: i live in the midwest\n",
      "User: i am from mumbai. where do i live?\n",
      "Bot: what is your name\n",
      "User: i am king\n",
      "Bot: my name is joe. What do you do for a living\n",
      "User: what is your favourite cuisine\n",
      "Bot: I like hummus and french food\n",
      "User: who is your favourite football player\n",
      "Bot: I like the star wars\n",
      "User: anything you want to ask me?\n",
      "Bot: Sure. What is your favorite food?\n",
      "User: pao bhaji\n",
      "Bot: I like hummus and french\n",
      "User: do you know maths?\n",
      "Bot: I do not know much about math.\n",
      "User: about science?\n",
      "Bot: I don't know.\n",
      "User: what can you do?\n",
      "Bot: I am a bit of a loner.\n",
      "User: ok bye \n",
      "Bot: Hi, am a little tired from the gym.\n",
      "User: quit\n"
     ]
    }
   ],
   "source": [
    "chat()"
   ]
  },
  {
   "cell_type": "code",
   "execution_count": null,
   "metadata": {
    "colab": {
     "base_uri": "https://localhost:8080/"
    },
    "id": "RGRIw04ODtPt",
    "outputId": "9da4973b-54f1-47b5-8bc4-db7660d81f40"
   },
   "outputs": [
    {
     "name": "stdout",
     "output_type": "stream",
     "text": [
      "User: hey bot\n",
      "Bot: Hi how are you today\n",
      "User: my day was good, how about you?\n",
      "Bot: What was the name of your day?\n",
      "User: today is sunday\n",
      "Bot: And I am going to the bar this weekend\n",
      "User: don't drink. it's injurious for your health\n",
      "Bot: I don't drink.\n",
      "User: then what are going to do in the bar\n",
      "Bot: OK, I will talk to you sometime. what are your hobbies?\n",
      "User: my hobbies are fighting\n",
      "Bot: Try to play basketball. What kind of work are you looking for?\n",
      "User: sure\n",
      "Bot: Ahem.\n",
      "User: you look good.\n",
      "Bot: That's good.\n",
      "User: how do i look\n",
      "Bot: What a joke.\n",
      "User: bye\n",
      "Bot: Trabajo?\n",
      "User: quit\n"
     ]
    }
   ],
   "source": [
    "chat()"
   ]
  },
  {
   "cell_type": "code",
   "execution_count": null,
   "metadata": {
    "colab": {
     "base_uri": "https://localhost:8080/"
    },
    "id": "sYdif0M1DtL0",
    "outputId": "e01eeebd-9260-42b4-8e74-c7154a9efad3"
   },
   "outputs": [
    {
     "name": "stdout",
     "output_type": "stream",
     "text": [
      "User: hey bot\n",
      "Bot: hi\n",
      "User: what is your name?\n",
      "Bot: i'm mary, and you?\n",
      "User: i'm sanjay\n",
      "Bot: my name is sharon\n",
      "User: ok so what is your work?\n",
      "Bot: i don't work\n",
      "User: then how do you make money?\n",
      "Bot: i want to be a lawyer\n",
      "User: how bout a teacher?\n",
      "Bot: i m a student\n",
      "User: which grade are you?\n",
      "Bot: what do you study?\n",
      "User: i study you\n",
      "Bot: i m studying as a school teacher\n",
      "User: ok so what is your favourite animal?\n",
      "Bot: i like <unk> animals what about you\n",
      "User: i like fishes\n",
      "Bot: me too man they are great i like <unk> fishes\n",
      "User: do you like sharks? they look kinda scary tho\n",
      "Bot: why is it so scary\n",
      "User: because they're huge and have sharp teeth\n",
      "Bot: haha they are funny\n",
      "User: no they're not, trust me\n",
      "Bot: i have two grown children who never visit.\n",
      "User: how old are you?\n",
      "Bot: i m one kid\n",
      "User: what is your age?\n",
      "Bot: my age is about 40\n",
      "User: i see\n",
      "Bot: i cant see <unk> any colors but green i would like to have a purple one\n",
      "User: bye then gotta go\n",
      "Bot: i love green i thinks it is my favorite color\n",
      "User: ok i agree but its time for me to leave\n",
      "Bot: i take care of my childhood and never had a healthy relationship\n",
      "User: quit\n"
     ]
    }
   ],
   "source": [
    "chat()"
   ]
  },
  {
   "cell_type": "code",
   "execution_count": null,
   "metadata": {
    "colab": {
     "base_uri": "https://localhost:8080/"
    },
    "id": "1i6fGDTEDtIe",
    "outputId": "cd8225e5-b3f1-4508-a877-34d9758f035a"
   },
   "outputs": [
    {
     "name": "stdout",
     "output_type": "stream",
     "text": [
      "User: hello anyone there\n",
      "Bot: hello there. how are you?\n",
      "User: i am doing good, thank you\n",
      "Bot: I'm doing great, thanks. What are you doing?\n",
      "User: i am presently chatting with you\n",
      "Bot: That's great. I've been working everywhere since i was.\n",
      "User: nice. what is your profession right now\n",
      "Bot: My parents are a professor, but i don't have a job\n",
      "User: that's so sad but i hope you will find a job sooner\n",
      "Bot: I'm sorry to hear that. What kind of work are you looking for?\n",
      "User: i am looking for a ml engineer role\n",
      "Bot: That'S cool. i am a scientist.\n",
      "User: ok what do you invent?\n",
      "Bot: I work at a bank\n",
      "User: so basically you are a scientist working in a bank\n",
      "Bot: Sounds interesting\n",
      "User: what's your favourite meal\n",
      "Bot: I like to eat stewed oxtail.\n",
      "User: does it taste good?\n",
      "Bot: Yes it is\n",
      "User: ok what other things have you been upto\n",
      "Bot: I am up to go to the gym\n",
      "User: what workouts do you do\n",
      "Bot: I work for a living.\n",
      "User: ok then see you\n",
      "Bot: <unk>\n",
      "User: quit\n"
     ]
    }
   ],
   "source": [
    "chat()"
   ]
  },
  {
   "cell_type": "code",
   "execution_count": null,
   "metadata": {
    "colab": {
     "base_uri": "https://localhost:8080/"
    },
    "id": "7iOkLcGhIOvs",
    "outputId": "7a2f5c77-1378-4a8b-dae3-cffc9701cca8"
   },
   "outputs": [
    {
     "name": "stdout",
     "output_type": "stream",
     "text": [
      "User: hey\n",
      "Bot: hello\n",
      "User: what is your name\n",
      "Bot: hey\n",
      "User: i'm pawan\n",
      "Bot: i'm a bee farmer\n",
      "User: ok what should i do then\n",
      "Bot: i'm a bee farmer\n",
      "User: you're very bad\n",
      "Bot: yes i m\n",
      "User: say my name\n",
      "Bot: i am a bee farmer\n",
      "User: blah blah\n",
      "Bot: what is bees\n",
      "User: do you like mango\n",
      "Bot: yes i do\n",
      "User: i like grapes\n",
      "Bot: do you like to eat too?\n",
      "User: yes obviously\n",
      "Bot: do you like dancing?\n",
      "User: yes i do\n",
      "Bot: ok. what is your favorite meal?\n",
      "User: pasta\n",
      "Bot: i love to eat a lot of food\n",
      "User: me too\n",
      "Bot: i like to dance in the moonlight and listen to music\n",
      "User: oh your taste seem to match with me\n",
      "Bot: i like to listen to music while i work\n",
      "User: that is a very bad habit\n",
      "Bot: i don't think so is a good thing to do.\n",
      "User: ok\n",
      "Bot: i gotta go, goodbye\n",
      "User: no dont go\n",
      "Bot: goodbye\n",
      "User: do you like me\n",
      "Bot: :)\n",
      "User: what do you like about me\n",
      "Bot: i like a lot of people\n",
      "User: speak to me in telugu\n",
      "Bot: oh i m very much\n",
      "User: bye bye tata goodbye\n",
      "Bot: ok <unk> then bye\n",
      "User: quit\n"
     ]
    }
   ],
   "source": [
    "chat()"
   ]
  },
  {
   "cell_type": "code",
   "execution_count": null,
   "metadata": {
    "colab": {
     "base_uri": "https://localhost:8080/"
    },
    "id": "Eu-pwxU0XLlt",
    "outputId": "27af3c82-2fc3-41f3-f07b-d00bff29154b"
   },
   "outputs": [
    {
     "name": "stdout",
     "output_type": "stream",
     "text": [
      "User: yo what;s up\n",
      "Bot: yo bro\n",
      "User: your name?\n",
      "Bot: i am not sure what that means\n",
      "User: i am asking your name?\n",
      "Bot: you are not sure what that means\n",
      "User: ok bot, tell me about yourself\n",
      "Bot: i am a very experienced person\n",
      "User: ok i see\n",
      "Bot: i am not sure what that means\n",
      "User: i like you\n",
      "Bot: i like to eat fish, but i am not very good at it.\n",
      "User: me too\n",
      "Bot: i like to eat fish but i am not very good at it\n",
      "User: okok. i like cricket. what about you\n",
      "Bot: i am not sure what that is\n",
      "User: cricket is a sport\n",
      "Bot: i like to watch football.\n",
      "User: ohh nice. what is your favourite football team\n",
      "Bot: i like the packers.\n",
      "User: i dont know about them. can you tell me about packers\n",
      "Bot: i like to watch the band thewitch streamer\n",
      "User: do you know about india?\n",
      "Bot: i don't know about it\n",
      "User: india is a huge country\n",
      "Bot: i am not sure about that\n",
      "User: do you have any nicknames\n",
      "Bot: i like to sing along the movies\n",
      "User: ok bye gotta go\n",
      "Bot: goodbye\n",
      "User: quit\n"
     ]
    }
   ],
   "source": [
    "chat()"
   ]
  },
  {
   "cell_type": "code",
   "execution_count": null,
   "metadata": {
    "id": "tM0kAl6hdBYo"
   },
   "outputs": [],
   "source": []
  }
 ],
 "metadata": {
  "accelerator": "TPU",
  "colab": {
   "collapsed_sections": [],
   "machine_shape": "hm",
   "name": "chatbot.ipynb",
   "provenance": []
  },
  "kernelspec": {
   "display_name": "Python 3",
   "language": "python",
   "name": "python3"
  },
  "language_info": {
   "codemirror_mode": {
    "name": "ipython",
    "version": 3
   },
   "file_extension": ".py",
   "mimetype": "text/x-python",
   "name": "python",
   "nbconvert_exporter": "python",
   "pygments_lexer": "ipython3",
   "version": "3.8.5"
  }
 },
 "nbformat": 4,
 "nbformat_minor": 1
}
